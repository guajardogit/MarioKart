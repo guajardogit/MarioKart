{
 "cells": [
  {
   "cell_type": "code",
   "execution_count": null,
   "id": "83edf5b9",
   "metadata": {},
   "outputs": [],
   "source": [
    "import numpy as np \n",
    "import pandas as pd\n"
   ]
  },
  {
   "cell_type": "markdown",
   "id": "a9fa2336",
   "metadata": {},
   "source": []
  },
  {
   "cell_type": "markdown",
   "id": "030ded74",
   "metadata": {},
   "source": [
    "## Problema:\n",
    "En Mario Kart 8 Deluxe, el rendimiento de un jugador depende de la combinación de cuatro componentes clave: conductor, cuerpo del kart, llantas y ala delta. Cada uno aporta distintas características como aceleración, tracción y velocidad en distintos terrenos. Ante una gran cantidad de combinaciones posibles, surge la necesidad de identificar aquellas que tienen mayor probabilidad de garantizar el mejor rendimiento en carrera."
   ]
  },
  {
   "cell_type": "code",
   "execution_count": null,
   "id": "3f908864",
   "metadata": {},
   "outputs": [],
   "source": []
  },
  {
   "cell_type": "code",
   "execution_count": 5,
   "id": "1d710fc2",
   "metadata": {},
   "outputs": [],
   "source": [
    "bodies_karts=pd.read_csv('db/bodies_karts.csv',delimiter=\";\")\n",
    "drivers=pd.read_csv('db/drivers.csv',delimiter=\";\")\n",
    "gliders=pd.read_csv('db/gliders.csv',delimiter=\";\")\n",
    "tires=pd.read_csv('db/tires.csv',delimiter=\";\")\n"
   ]
  },
  {
   "cell_type": "code",
   "execution_count": 6,
   "id": "2f21d6fa",
   "metadata": {},
   "outputs": [
    {
     "data": {
      "application/vnd.microsoft.datawrangler.viewer.v0+json": {
       "columns": [
        {
         "name": "index",
         "rawType": "int64",
         "type": "integer"
        },
        {
         "name": "Body",
         "rawType": "object",
         "type": "string"
        },
        {
         "name": "Weight",
         "rawType": "int64",
         "type": "integer"
        },
        {
         "name": "Acceleration",
         "rawType": "int64",
         "type": "integer"
        },
        {
         "name": "On-Road traction",
         "rawType": "int64",
         "type": "integer"
        },
        {
         "name": "Off-Road Traction",
         "rawType": "int64",
         "type": "integer"
        },
        {
         "name": "Mini-Turbo",
         "rawType": "int64",
         "type": "integer"
        },
        {
         "name": "Ground Speed",
         "rawType": "int64",
         "type": "integer"
        },
        {
         "name": "Water Speed",
         "rawType": "int64",
         "type": "integer"
        },
        {
         "name": "Anti-Gravity Speed",
         "rawType": "int64",
         "type": "integer"
        },
        {
         "name": "Air Speed",
         "rawType": "int64",
         "type": "integer"
        },
        {
         "name": "Ground Handling",
         "rawType": "int64",
         "type": "integer"
        },
        {
         "name": "Water Handling",
         "rawType": "int64",
         "type": "integer"
        },
        {
         "name": "Anti-Gravity Handling",
         "rawType": "int64",
         "type": "integer"
        },
        {
         "name": "Air Handling",
         "rawType": "int64",
         "type": "integer"
        }
       ],
       "conversionMethod": "pd.DataFrame",
       "ref": "d5990fb1-217c-40ca-a805-b14ca3b8060c",
       "rows": [
        [
         "0",
         "Standard Kart",
         "2",
         "4",
         "3",
         "3",
         "4",
         "3",
         "3",
         "3",
         "3",
         "3",
         "2",
         "3",
         "3"
        ],
        [
         "1",
         "Pipe Frame",
         "1",
         "6",
         "3",
         "4",
         "6",
         "1",
         "3",
         "1",
         "1",
         "5",
         "4",
         "4",
         "2"
        ],
        [
         "2",
         "Mach 8",
         "3",
         "3",
         "2",
         "4",
         "4",
         "3",
         "3",
         "5",
         "4",
         "2",
         "2",
         "4",
         "2"
        ],
        [
         "3",
         "Steel Driver",
         "4",
         "1",
         "1",
         "3",
         "2",
         "4",
         "5",
         "2",
         "0",
         "1",
         "5",
         "1",
         "1"
        ],
        [
         "4",
         "Cat Cruiser",
         "2",
         "5",
         "4",
         "3",
         "5",
         "2",
         "2",
         "3",
         "4",
         "4",
         "2",
         "3",
         "4"
        ]
       ],
       "shape": {
        "columns": 14,
        "rows": 5
       }
      },
      "text/html": [
       "<div>\n",
       "<style scoped>\n",
       "    .dataframe tbody tr th:only-of-type {\n",
       "        vertical-align: middle;\n",
       "    }\n",
       "\n",
       "    .dataframe tbody tr th {\n",
       "        vertical-align: top;\n",
       "    }\n",
       "\n",
       "    .dataframe thead th {\n",
       "        text-align: right;\n",
       "    }\n",
       "</style>\n",
       "<table border=\"1\" class=\"dataframe\">\n",
       "  <thead>\n",
       "    <tr style=\"text-align: right;\">\n",
       "      <th></th>\n",
       "      <th>Body</th>\n",
       "      <th>Weight</th>\n",
       "      <th>Acceleration</th>\n",
       "      <th>On-Road traction</th>\n",
       "      <th>Off-Road Traction</th>\n",
       "      <th>Mini-Turbo</th>\n",
       "      <th>Ground Speed</th>\n",
       "      <th>Water Speed</th>\n",
       "      <th>Anti-Gravity Speed</th>\n",
       "      <th>Air Speed</th>\n",
       "      <th>Ground Handling</th>\n",
       "      <th>Water Handling</th>\n",
       "      <th>Anti-Gravity Handling</th>\n",
       "      <th>Air Handling</th>\n",
       "    </tr>\n",
       "  </thead>\n",
       "  <tbody>\n",
       "    <tr>\n",
       "      <th>0</th>\n",
       "      <td>Standard Kart</td>\n",
       "      <td>2</td>\n",
       "      <td>4</td>\n",
       "      <td>3</td>\n",
       "      <td>3</td>\n",
       "      <td>4</td>\n",
       "      <td>3</td>\n",
       "      <td>3</td>\n",
       "      <td>3</td>\n",
       "      <td>3</td>\n",
       "      <td>3</td>\n",
       "      <td>2</td>\n",
       "      <td>3</td>\n",
       "      <td>3</td>\n",
       "    </tr>\n",
       "    <tr>\n",
       "      <th>1</th>\n",
       "      <td>Pipe Frame</td>\n",
       "      <td>1</td>\n",
       "      <td>6</td>\n",
       "      <td>3</td>\n",
       "      <td>4</td>\n",
       "      <td>6</td>\n",
       "      <td>1</td>\n",
       "      <td>3</td>\n",
       "      <td>1</td>\n",
       "      <td>1</td>\n",
       "      <td>5</td>\n",
       "      <td>4</td>\n",
       "      <td>4</td>\n",
       "      <td>2</td>\n",
       "    </tr>\n",
       "    <tr>\n",
       "      <th>2</th>\n",
       "      <td>Mach 8</td>\n",
       "      <td>3</td>\n",
       "      <td>3</td>\n",
       "      <td>2</td>\n",
       "      <td>4</td>\n",
       "      <td>4</td>\n",
       "      <td>3</td>\n",
       "      <td>3</td>\n",
       "      <td>5</td>\n",
       "      <td>4</td>\n",
       "      <td>2</td>\n",
       "      <td>2</td>\n",
       "      <td>4</td>\n",
       "      <td>2</td>\n",
       "    </tr>\n",
       "    <tr>\n",
       "      <th>3</th>\n",
       "      <td>Steel Driver</td>\n",
       "      <td>4</td>\n",
       "      <td>1</td>\n",
       "      <td>1</td>\n",
       "      <td>3</td>\n",
       "      <td>2</td>\n",
       "      <td>4</td>\n",
       "      <td>5</td>\n",
       "      <td>2</td>\n",
       "      <td>0</td>\n",
       "      <td>1</td>\n",
       "      <td>5</td>\n",
       "      <td>1</td>\n",
       "      <td>1</td>\n",
       "    </tr>\n",
       "    <tr>\n",
       "      <th>4</th>\n",
       "      <td>Cat Cruiser</td>\n",
       "      <td>2</td>\n",
       "      <td>5</td>\n",
       "      <td>4</td>\n",
       "      <td>3</td>\n",
       "      <td>5</td>\n",
       "      <td>2</td>\n",
       "      <td>2</td>\n",
       "      <td>3</td>\n",
       "      <td>4</td>\n",
       "      <td>4</td>\n",
       "      <td>2</td>\n",
       "      <td>3</td>\n",
       "      <td>4</td>\n",
       "    </tr>\n",
       "  </tbody>\n",
       "</table>\n",
       "</div>"
      ],
      "text/plain": [
       "            Body  Weight  Acceleration  On-Road traction  Off-Road Traction  \\\n",
       "0  Standard Kart       2             4                 3                  3   \n",
       "1     Pipe Frame       1             6                 3                  4   \n",
       "2         Mach 8       3             3                 2                  4   \n",
       "3   Steel Driver       4             1                 1                  3   \n",
       "4    Cat Cruiser       2             5                 4                  3   \n",
       "\n",
       "   Mini-Turbo  Ground Speed  Water Speed  Anti-Gravity Speed  Air Speed  \\\n",
       "0           4             3            3                   3          3   \n",
       "1           6             1            3                   1          1   \n",
       "2           4             3            3                   5          4   \n",
       "3           2             4            5                   2          0   \n",
       "4           5             2            2                   3          4   \n",
       "\n",
       "   Ground Handling  Water Handling  Anti-Gravity Handling  Air Handling  \n",
       "0                3               2                      3             3  \n",
       "1                5               4                      4             2  \n",
       "2                2               2                      4             2  \n",
       "3                1               5                      1             1  \n",
       "4                4               2                      3             4  "
      ]
     },
     "execution_count": 6,
     "metadata": {},
     "output_type": "execute_result"
    }
   ],
   "source": [
    "bodies_karts.head()"
   ]
  },
  {
   "cell_type": "code",
   "execution_count": 7,
   "id": "b29305d5",
   "metadata": {},
   "outputs": [
    {
     "data": {
      "application/vnd.microsoft.datawrangler.viewer.v0+json": {
       "columns": [
        {
         "name": "index",
         "rawType": "int64",
         "type": "integer"
        },
        {
         "name": "Driver",
         "rawType": "object",
         "type": "string"
        },
        {
         "name": "Weight",
         "rawType": "int64",
         "type": "integer"
        },
        {
         "name": "Acceleration",
         "rawType": "int64",
         "type": "integer"
        },
        {
         "name": "On-Road traction",
         "rawType": "int64",
         "type": "integer"
        },
        {
         "name": "Off-Road Traction",
         "rawType": "int64",
         "type": "integer"
        },
        {
         "name": "Mini-Turbo",
         "rawType": "int64",
         "type": "integer"
        },
        {
         "name": "Ground Speed",
         "rawType": "int64",
         "type": "integer"
        },
        {
         "name": "Water Speed",
         "rawType": "int64",
         "type": "integer"
        },
        {
         "name": "Anti-Gravity Speed",
         "rawType": "int64",
         "type": "integer"
        },
        {
         "name": "Air Speed",
         "rawType": "int64",
         "type": "integer"
        },
        {
         "name": "Ground Handling",
         "rawType": "int64",
         "type": "integer"
        },
        {
         "name": "Water Handling",
         "rawType": "int64",
         "type": "integer"
        },
        {
         "name": "Anti-Gravity Handling",
         "rawType": "int64",
         "type": "integer"
        },
        {
         "name": "Air Handling",
         "rawType": "int64",
         "type": "integer"
        }
       ],
       "conversionMethod": "pd.DataFrame",
       "ref": "8269cd58-a478-46af-a410-0171e287c8d3",
       "rows": [
        [
         "0",
         "Mario",
         "6",
         "2",
         "4",
         "2",
         "2",
         "6",
         "6",
         "6",
         "6",
         "4",
         "4",
         "4",
         "4"
        ],
        [
         "1",
         "Luigi",
         "6",
         "2",
         "5",
         "1",
         "2",
         "6",
         "6",
         "6",
         "6",
         "5",
         "5",
         "5",
         "5"
        ],
        [
         "2",
         "Peach",
         "4",
         "3",
         "3",
         "3",
         "3",
         "5",
         "5",
         "5",
         "5",
         "5",
         "5",
         "5",
         "5"
        ],
        [
         "3",
         "Daisy",
         "4",
         "3",
         "3",
         "3",
         "3",
         "5",
         "5",
         "5",
         "5",
         "5",
         "5",
         "5",
         "5"
        ],
        [
         "4",
         "Yoshi",
         "4",
         "3",
         "3",
         "3",
         "3",
         "5",
         "5",
         "5",
         "5",
         "5",
         "5",
         "5",
         "5"
        ]
       ],
       "shape": {
        "columns": 14,
        "rows": 5
       }
      },
      "text/html": [
       "<div>\n",
       "<style scoped>\n",
       "    .dataframe tbody tr th:only-of-type {\n",
       "        vertical-align: middle;\n",
       "    }\n",
       "\n",
       "    .dataframe tbody tr th {\n",
       "        vertical-align: top;\n",
       "    }\n",
       "\n",
       "    .dataframe thead th {\n",
       "        text-align: right;\n",
       "    }\n",
       "</style>\n",
       "<table border=\"1\" class=\"dataframe\">\n",
       "  <thead>\n",
       "    <tr style=\"text-align: right;\">\n",
       "      <th></th>\n",
       "      <th>Driver</th>\n",
       "      <th>Weight</th>\n",
       "      <th>Acceleration</th>\n",
       "      <th>On-Road traction</th>\n",
       "      <th>Off-Road Traction</th>\n",
       "      <th>Mini-Turbo</th>\n",
       "      <th>Ground Speed</th>\n",
       "      <th>Water Speed</th>\n",
       "      <th>Anti-Gravity Speed</th>\n",
       "      <th>Air Speed</th>\n",
       "      <th>Ground Handling</th>\n",
       "      <th>Water Handling</th>\n",
       "      <th>Anti-Gravity Handling</th>\n",
       "      <th>Air Handling</th>\n",
       "    </tr>\n",
       "  </thead>\n",
       "  <tbody>\n",
       "    <tr>\n",
       "      <th>0</th>\n",
       "      <td>Mario</td>\n",
       "      <td>6</td>\n",
       "      <td>2</td>\n",
       "      <td>4</td>\n",
       "      <td>2</td>\n",
       "      <td>2</td>\n",
       "      <td>6</td>\n",
       "      <td>6</td>\n",
       "      <td>6</td>\n",
       "      <td>6</td>\n",
       "      <td>4</td>\n",
       "      <td>4</td>\n",
       "      <td>4</td>\n",
       "      <td>4</td>\n",
       "    </tr>\n",
       "    <tr>\n",
       "      <th>1</th>\n",
       "      <td>Luigi</td>\n",
       "      <td>6</td>\n",
       "      <td>2</td>\n",
       "      <td>5</td>\n",
       "      <td>1</td>\n",
       "      <td>2</td>\n",
       "      <td>6</td>\n",
       "      <td>6</td>\n",
       "      <td>6</td>\n",
       "      <td>6</td>\n",
       "      <td>5</td>\n",
       "      <td>5</td>\n",
       "      <td>5</td>\n",
       "      <td>5</td>\n",
       "    </tr>\n",
       "    <tr>\n",
       "      <th>2</th>\n",
       "      <td>Peach</td>\n",
       "      <td>4</td>\n",
       "      <td>3</td>\n",
       "      <td>3</td>\n",
       "      <td>3</td>\n",
       "      <td>3</td>\n",
       "      <td>5</td>\n",
       "      <td>5</td>\n",
       "      <td>5</td>\n",
       "      <td>5</td>\n",
       "      <td>5</td>\n",
       "      <td>5</td>\n",
       "      <td>5</td>\n",
       "      <td>5</td>\n",
       "    </tr>\n",
       "    <tr>\n",
       "      <th>3</th>\n",
       "      <td>Daisy</td>\n",
       "      <td>4</td>\n",
       "      <td>3</td>\n",
       "      <td>3</td>\n",
       "      <td>3</td>\n",
       "      <td>3</td>\n",
       "      <td>5</td>\n",
       "      <td>5</td>\n",
       "      <td>5</td>\n",
       "      <td>5</td>\n",
       "      <td>5</td>\n",
       "      <td>5</td>\n",
       "      <td>5</td>\n",
       "      <td>5</td>\n",
       "    </tr>\n",
       "    <tr>\n",
       "      <th>4</th>\n",
       "      <td>Yoshi</td>\n",
       "      <td>4</td>\n",
       "      <td>3</td>\n",
       "      <td>3</td>\n",
       "      <td>3</td>\n",
       "      <td>3</td>\n",
       "      <td>5</td>\n",
       "      <td>5</td>\n",
       "      <td>5</td>\n",
       "      <td>5</td>\n",
       "      <td>5</td>\n",
       "      <td>5</td>\n",
       "      <td>5</td>\n",
       "      <td>5</td>\n",
       "    </tr>\n",
       "  </tbody>\n",
       "</table>\n",
       "</div>"
      ],
      "text/plain": [
       "  Driver  Weight  Acceleration  On-Road traction  Off-Road Traction  \\\n",
       "0  Mario       6             2                 4                  2   \n",
       "1  Luigi       6             2                 5                  1   \n",
       "2  Peach       4             3                 3                  3   \n",
       "3  Daisy       4             3                 3                  3   \n",
       "4  Yoshi       4             3                 3                  3   \n",
       "\n",
       "   Mini-Turbo  Ground Speed  Water Speed  Anti-Gravity Speed  Air Speed  \\\n",
       "0           2             6            6                   6          6   \n",
       "1           2             6            6                   6          6   \n",
       "2           3             5            5                   5          5   \n",
       "3           3             5            5                   5          5   \n",
       "4           3             5            5                   5          5   \n",
       "\n",
       "   Ground Handling  Water Handling  Anti-Gravity Handling  Air Handling  \n",
       "0                4               4                      4             4  \n",
       "1                5               5                      5             5  \n",
       "2                5               5                      5             5  \n",
       "3                5               5                      5             5  \n",
       "4                5               5                      5             5  "
      ]
     },
     "execution_count": 7,
     "metadata": {},
     "output_type": "execute_result"
    }
   ],
   "source": [
    "drivers.head()"
   ]
  },
  {
   "cell_type": "code",
   "execution_count": 8,
   "id": "e5ad7a59",
   "metadata": {},
   "outputs": [
    {
     "data": {
      "application/vnd.microsoft.datawrangler.viewer.v0+json": {
       "columns": [
        {
         "name": "index",
         "rawType": "int64",
         "type": "integer"
        },
        {
         "name": "Glider",
         "rawType": "object",
         "type": "string"
        },
        {
         "name": "Weight",
         "rawType": "int64",
         "type": "integer"
        },
        {
         "name": "Acceleration",
         "rawType": "int64",
         "type": "integer"
        },
        {
         "name": "On-Road traction",
         "rawType": "int64",
         "type": "integer"
        },
        {
         "name": "Off-Road Traction",
         "rawType": "int64",
         "type": "integer"
        },
        {
         "name": "Mini-Turbo",
         "rawType": "int64",
         "type": "integer"
        },
        {
         "name": "Ground Speed",
         "rawType": "int64",
         "type": "integer"
        },
        {
         "name": "Water Speed",
         "rawType": "int64",
         "type": "integer"
        },
        {
         "name": "Anti-Gravity Speed",
         "rawType": "int64",
         "type": "integer"
        },
        {
         "name": "Air Speed",
         "rawType": "int64",
         "type": "integer"
        },
        {
         "name": "Ground Handling",
         "rawType": "int64",
         "type": "integer"
        },
        {
         "name": "Water Handling",
         "rawType": "int64",
         "type": "integer"
        },
        {
         "name": "Anti-Gravity Handling",
         "rawType": "int64",
         "type": "integer"
        },
        {
         "name": "Air Handling",
         "rawType": "int64",
         "type": "integer"
        }
       ],
       "conversionMethod": "pd.DataFrame",
       "ref": "745de9c4-ea58-416a-8c47-2f3802bec080",
       "rows": [
        [
         "0",
         "Super Glider",
         "1",
         "1",
         "1",
         "1",
         "1",
         "1",
         "1",
         "0",
         "2",
         "1",
         "0",
         "1",
         "1"
        ],
        [
         "1",
         "Cloud Glider",
         "0",
         "2",
         "1",
         "1",
         "2",
         "0",
         "1",
         "1",
         "1",
         "1",
         "0",
         "1",
         "2"
        ],
        [
         "2",
         "Wario Wing ",
         "2",
         "1",
         "2",
         "0",
         "1",
         "1",
         "0",
         "1",
         "2",
         "1",
         "1",
         "0",
         "1"
        ],
        [
         "3",
         "Waddle Wing",
         "1",
         "1",
         "1",
         "1",
         "1",
         "1",
         "1",
         "0",
         "2",
         "1",
         "0",
         "1",
         "1"
        ],
        [
         "4",
         "Peach Parasol",
         "1",
         "2",
         "2",
         "0",
         "2",
         "0",
         "0",
         "1",
         "1",
         "1",
         "1",
         "0",
         "2"
        ]
       ],
       "shape": {
        "columns": 14,
        "rows": 5
       }
      },
      "text/html": [
       "<div>\n",
       "<style scoped>\n",
       "    .dataframe tbody tr th:only-of-type {\n",
       "        vertical-align: middle;\n",
       "    }\n",
       "\n",
       "    .dataframe tbody tr th {\n",
       "        vertical-align: top;\n",
       "    }\n",
       "\n",
       "    .dataframe thead th {\n",
       "        text-align: right;\n",
       "    }\n",
       "</style>\n",
       "<table border=\"1\" class=\"dataframe\">\n",
       "  <thead>\n",
       "    <tr style=\"text-align: right;\">\n",
       "      <th></th>\n",
       "      <th>Glider</th>\n",
       "      <th>Weight</th>\n",
       "      <th>Acceleration</th>\n",
       "      <th>On-Road traction</th>\n",
       "      <th>Off-Road Traction</th>\n",
       "      <th>Mini-Turbo</th>\n",
       "      <th>Ground Speed</th>\n",
       "      <th>Water Speed</th>\n",
       "      <th>Anti-Gravity Speed</th>\n",
       "      <th>Air Speed</th>\n",
       "      <th>Ground Handling</th>\n",
       "      <th>Water Handling</th>\n",
       "      <th>Anti-Gravity Handling</th>\n",
       "      <th>Air Handling</th>\n",
       "    </tr>\n",
       "  </thead>\n",
       "  <tbody>\n",
       "    <tr>\n",
       "      <th>0</th>\n",
       "      <td>Super Glider</td>\n",
       "      <td>1</td>\n",
       "      <td>1</td>\n",
       "      <td>1</td>\n",
       "      <td>1</td>\n",
       "      <td>1</td>\n",
       "      <td>1</td>\n",
       "      <td>1</td>\n",
       "      <td>0</td>\n",
       "      <td>2</td>\n",
       "      <td>1</td>\n",
       "      <td>0</td>\n",
       "      <td>1</td>\n",
       "      <td>1</td>\n",
       "    </tr>\n",
       "    <tr>\n",
       "      <th>1</th>\n",
       "      <td>Cloud Glider</td>\n",
       "      <td>0</td>\n",
       "      <td>2</td>\n",
       "      <td>1</td>\n",
       "      <td>1</td>\n",
       "      <td>2</td>\n",
       "      <td>0</td>\n",
       "      <td>1</td>\n",
       "      <td>1</td>\n",
       "      <td>1</td>\n",
       "      <td>1</td>\n",
       "      <td>0</td>\n",
       "      <td>1</td>\n",
       "      <td>2</td>\n",
       "    </tr>\n",
       "    <tr>\n",
       "      <th>2</th>\n",
       "      <td>Wario Wing</td>\n",
       "      <td>2</td>\n",
       "      <td>1</td>\n",
       "      <td>2</td>\n",
       "      <td>0</td>\n",
       "      <td>1</td>\n",
       "      <td>1</td>\n",
       "      <td>0</td>\n",
       "      <td>1</td>\n",
       "      <td>2</td>\n",
       "      <td>1</td>\n",
       "      <td>1</td>\n",
       "      <td>0</td>\n",
       "      <td>1</td>\n",
       "    </tr>\n",
       "    <tr>\n",
       "      <th>3</th>\n",
       "      <td>Waddle Wing</td>\n",
       "      <td>1</td>\n",
       "      <td>1</td>\n",
       "      <td>1</td>\n",
       "      <td>1</td>\n",
       "      <td>1</td>\n",
       "      <td>1</td>\n",
       "      <td>1</td>\n",
       "      <td>0</td>\n",
       "      <td>2</td>\n",
       "      <td>1</td>\n",
       "      <td>0</td>\n",
       "      <td>1</td>\n",
       "      <td>1</td>\n",
       "    </tr>\n",
       "    <tr>\n",
       "      <th>4</th>\n",
       "      <td>Peach Parasol</td>\n",
       "      <td>1</td>\n",
       "      <td>2</td>\n",
       "      <td>2</td>\n",
       "      <td>0</td>\n",
       "      <td>2</td>\n",
       "      <td>0</td>\n",
       "      <td>0</td>\n",
       "      <td>1</td>\n",
       "      <td>1</td>\n",
       "      <td>1</td>\n",
       "      <td>1</td>\n",
       "      <td>0</td>\n",
       "      <td>2</td>\n",
       "    </tr>\n",
       "  </tbody>\n",
       "</table>\n",
       "</div>"
      ],
      "text/plain": [
       "          Glider  Weight  Acceleration  On-Road traction  Off-Road Traction  \\\n",
       "0   Super Glider       1             1                 1                  1   \n",
       "1   Cloud Glider       0             2                 1                  1   \n",
       "2    Wario Wing        2             1                 2                  0   \n",
       "3    Waddle Wing       1             1                 1                  1   \n",
       "4  Peach Parasol       1             2                 2                  0   \n",
       "\n",
       "   Mini-Turbo  Ground Speed  Water Speed  Anti-Gravity Speed  Air Speed  \\\n",
       "0           1             1            1                   0          2   \n",
       "1           2             0            1                   1          1   \n",
       "2           1             1            0                   1          2   \n",
       "3           1             1            1                   0          2   \n",
       "4           2             0            0                   1          1   \n",
       "\n",
       "   Ground Handling  Water Handling  Anti-Gravity Handling  Air Handling  \n",
       "0                1               0                      1             1  \n",
       "1                1               0                      1             2  \n",
       "2                1               1                      0             1  \n",
       "3                1               0                      1             1  \n",
       "4                1               1                      0             2  "
      ]
     },
     "execution_count": 8,
     "metadata": {},
     "output_type": "execute_result"
    }
   ],
   "source": [
    "gliders.head()"
   ]
  },
  {
   "cell_type": "code",
   "execution_count": 9,
   "id": "754df866",
   "metadata": {},
   "outputs": [
    {
     "data": {
      "application/vnd.microsoft.datawrangler.viewer.v0+json": {
       "columns": [
        {
         "name": "index",
         "rawType": "int64",
         "type": "integer"
        },
        {
         "name": "Tire",
         "rawType": "object",
         "type": "string"
        },
        {
         "name": "Weight",
         "rawType": "int64",
         "type": "integer"
        },
        {
         "name": "Acceleration",
         "rawType": "int64",
         "type": "integer"
        },
        {
         "name": "On-Road traction",
         "rawType": "int64",
         "type": "integer"
        },
        {
         "name": "Off-Road Traction",
         "rawType": "int64",
         "type": "integer"
        },
        {
         "name": "Mini-Turbo",
         "rawType": "int64",
         "type": "integer"
        },
        {
         "name": "Ground Speed",
         "rawType": "int64",
         "type": "integer"
        },
        {
         "name": "Water Speed",
         "rawType": "int64",
         "type": "integer"
        },
        {
         "name": "Anti-Gravity Speed",
         "rawType": "int64",
         "type": "integer"
        },
        {
         "name": "Air Speed",
         "rawType": "int64",
         "type": "integer"
        },
        {
         "name": "Ground Handling",
         "rawType": "int64",
         "type": "integer"
        },
        {
         "name": "Water Handling",
         "rawType": "int64",
         "type": "integer"
        },
        {
         "name": "Anti-Gravity Handling",
         "rawType": "int64",
         "type": "integer"
        },
        {
         "name": "Air Handling",
         "rawType": "int64",
         "type": "integer"
        }
       ],
       "conversionMethod": "pd.DataFrame",
       "ref": "e2b0656d-026e-4965-ac4a-25d1c726afd3",
       "rows": [
        [
         "0",
         "Standard",
         "2",
         "4",
         "2",
         "5",
         "3",
         "2",
         "3",
         "2",
         "3",
         "3",
         "3",
         "3",
         "3"
        ],
        [
         "1",
         "Monster",
         "4",
         "2",
         "3",
         "7",
         "2",
         "2",
         "2",
         "2",
         "1",
         "0",
         "1",
         "0",
         "1"
        ],
        [
         "2",
         "Roller",
         "0",
         "6",
         "0",
         "4",
         "6",
         "0",
         "3",
         "0",
         "3",
         "4",
         "4",
         "4",
         "4"
        ],
        [
         "3",
         "Slim",
         "2",
         "2",
         "4",
         "1",
         "2",
         "3",
         "2",
         "4",
         "2",
         "4",
         "4",
         "3",
         "4"
        ],
        [
         "4",
         "Slick",
         "3",
         "1",
         "4",
         "0",
         "0",
         "4",
         "0",
         "4",
         "0",
         "2",
         "0",
         "2",
         "1"
        ]
       ],
       "shape": {
        "columns": 14,
        "rows": 5
       }
      },
      "text/html": [
       "<div>\n",
       "<style scoped>\n",
       "    .dataframe tbody tr th:only-of-type {\n",
       "        vertical-align: middle;\n",
       "    }\n",
       "\n",
       "    .dataframe tbody tr th {\n",
       "        vertical-align: top;\n",
       "    }\n",
       "\n",
       "    .dataframe thead th {\n",
       "        text-align: right;\n",
       "    }\n",
       "</style>\n",
       "<table border=\"1\" class=\"dataframe\">\n",
       "  <thead>\n",
       "    <tr style=\"text-align: right;\">\n",
       "      <th></th>\n",
       "      <th>Tire</th>\n",
       "      <th>Weight</th>\n",
       "      <th>Acceleration</th>\n",
       "      <th>On-Road traction</th>\n",
       "      <th>Off-Road Traction</th>\n",
       "      <th>Mini-Turbo</th>\n",
       "      <th>Ground Speed</th>\n",
       "      <th>Water Speed</th>\n",
       "      <th>Anti-Gravity Speed</th>\n",
       "      <th>Air Speed</th>\n",
       "      <th>Ground Handling</th>\n",
       "      <th>Water Handling</th>\n",
       "      <th>Anti-Gravity Handling</th>\n",
       "      <th>Air Handling</th>\n",
       "    </tr>\n",
       "  </thead>\n",
       "  <tbody>\n",
       "    <tr>\n",
       "      <th>0</th>\n",
       "      <td>Standard</td>\n",
       "      <td>2</td>\n",
       "      <td>4</td>\n",
       "      <td>2</td>\n",
       "      <td>5</td>\n",
       "      <td>3</td>\n",
       "      <td>2</td>\n",
       "      <td>3</td>\n",
       "      <td>2</td>\n",
       "      <td>3</td>\n",
       "      <td>3</td>\n",
       "      <td>3</td>\n",
       "      <td>3</td>\n",
       "      <td>3</td>\n",
       "    </tr>\n",
       "    <tr>\n",
       "      <th>1</th>\n",
       "      <td>Monster</td>\n",
       "      <td>4</td>\n",
       "      <td>2</td>\n",
       "      <td>3</td>\n",
       "      <td>7</td>\n",
       "      <td>2</td>\n",
       "      <td>2</td>\n",
       "      <td>2</td>\n",
       "      <td>2</td>\n",
       "      <td>1</td>\n",
       "      <td>0</td>\n",
       "      <td>1</td>\n",
       "      <td>0</td>\n",
       "      <td>1</td>\n",
       "    </tr>\n",
       "    <tr>\n",
       "      <th>2</th>\n",
       "      <td>Roller</td>\n",
       "      <td>0</td>\n",
       "      <td>6</td>\n",
       "      <td>0</td>\n",
       "      <td>4</td>\n",
       "      <td>6</td>\n",
       "      <td>0</td>\n",
       "      <td>3</td>\n",
       "      <td>0</td>\n",
       "      <td>3</td>\n",
       "      <td>4</td>\n",
       "      <td>4</td>\n",
       "      <td>4</td>\n",
       "      <td>4</td>\n",
       "    </tr>\n",
       "    <tr>\n",
       "      <th>3</th>\n",
       "      <td>Slim</td>\n",
       "      <td>2</td>\n",
       "      <td>2</td>\n",
       "      <td>4</td>\n",
       "      <td>1</td>\n",
       "      <td>2</td>\n",
       "      <td>3</td>\n",
       "      <td>2</td>\n",
       "      <td>4</td>\n",
       "      <td>2</td>\n",
       "      <td>4</td>\n",
       "      <td>4</td>\n",
       "      <td>3</td>\n",
       "      <td>4</td>\n",
       "    </tr>\n",
       "    <tr>\n",
       "      <th>4</th>\n",
       "      <td>Slick</td>\n",
       "      <td>3</td>\n",
       "      <td>1</td>\n",
       "      <td>4</td>\n",
       "      <td>0</td>\n",
       "      <td>0</td>\n",
       "      <td>4</td>\n",
       "      <td>0</td>\n",
       "      <td>4</td>\n",
       "      <td>0</td>\n",
       "      <td>2</td>\n",
       "      <td>0</td>\n",
       "      <td>2</td>\n",
       "      <td>1</td>\n",
       "    </tr>\n",
       "  </tbody>\n",
       "</table>\n",
       "</div>"
      ],
      "text/plain": [
       "       Tire  Weight  Acceleration  On-Road traction  Off-Road Traction  \\\n",
       "0  Standard       2             4                 2                  5   \n",
       "1   Monster       4             2                 3                  7   \n",
       "2    Roller       0             6                 0                  4   \n",
       "3      Slim       2             2                 4                  1   \n",
       "4     Slick       3             1                 4                  0   \n",
       "\n",
       "   Mini-Turbo  Ground Speed  Water Speed  Anti-Gravity Speed  Air Speed  \\\n",
       "0           3             2            3                   2          3   \n",
       "1           2             2            2                   2          1   \n",
       "2           6             0            3                   0          3   \n",
       "3           2             3            2                   4          2   \n",
       "4           0             4            0                   4          0   \n",
       "\n",
       "   Ground Handling  Water Handling  Anti-Gravity Handling  Air Handling  \n",
       "0                3               3                      3             3  \n",
       "1                0               1                      0             1  \n",
       "2                4               4                      4             4  \n",
       "3                4               4                      3             4  \n",
       "4                2               0                      2             1  "
      ]
     },
     "execution_count": 9,
     "metadata": {},
     "output_type": "execute_result"
    }
   ],
   "source": [
    "tires.head()"
   ]
  },
  {
   "cell_type": "code",
   "execution_count": null,
   "id": "fd8ae687",
   "metadata": {},
   "outputs": [],
   "source": [
    "print(len())"
   ]
  },
  {
   "cell_type": "markdown",
   "id": "20e911a3",
   "metadata": {},
   "source": [
    "## Combinamos los datos\n",
    "Debido a que los datos vienen en 4 csv, sumaremos los puntajes y haremos todas las posibles combinaciones para analizar su rendimiento de cada una"
   ]
  },
  {
   "cell_type": "code",
   "execution_count": 11,
   "id": "532d18d3",
   "metadata": {},
   "outputs": [
    {
     "ename": "KeyboardInterrupt",
     "evalue": "",
     "output_type": "error",
     "traceback": [
      "\u001b[31m---------------------------------------------------------------------------\u001b[39m",
      "\u001b[31mKeyboardInterrupt\u001b[39m                         Traceback (most recent call last)",
      "\u001b[36mCell\u001b[39m\u001b[36m \u001b[39m\u001b[32mIn[11]\u001b[39m\u001b[32m, line 25\u001b[39m\n\u001b[32m     19\u001b[39m glider_row = g[\u001b[32m1\u001b[39m]\n\u001b[32m     21\u001b[39m combo_name = \u001b[33mf\u001b[39m\u001b[33m\"\u001b[39m\u001b[38;5;132;01m{\u001b[39;00mdriver_row[\u001b[33m'\u001b[39m\u001b[33mDriver\u001b[39m\u001b[33m'\u001b[39m]\u001b[38;5;132;01m}\u001b[39;00m\u001b[33m + \u001b[39m\u001b[38;5;132;01m{\u001b[39;00mbody_row[\u001b[33m'\u001b[39m\u001b[33mBody\u001b[39m\u001b[33m'\u001b[39m]\u001b[38;5;132;01m}\u001b[39;00m\u001b[33m + \u001b[39m\u001b[38;5;132;01m{\u001b[39;00mtire_row[\u001b[33m'\u001b[39m\u001b[33mTire\u001b[39m\u001b[33m'\u001b[39m]\u001b[38;5;132;01m}\u001b[39;00m\u001b[33m + \u001b[39m\u001b[38;5;132;01m{\u001b[39;00mglider_row[\u001b[33m'\u001b[39m\u001b[33mGlider\u001b[39m\u001b[33m'\u001b[39m]\u001b[38;5;132;01m}\u001b[39;00m\u001b[33m\"\u001b[39m\n\u001b[32m     23\u001b[39m combined_stats = driver_row[stats_cols].astype(\u001b[38;5;28mfloat\u001b[39m) + \\\n\u001b[32m     24\u001b[39m                  body_row[stats_cols].astype(\u001b[38;5;28mfloat\u001b[39m) + \\\n\u001b[32m---> \u001b[39m\u001b[32m25\u001b[39m                  \u001b[43mtire_row\u001b[49m\u001b[43m[\u001b[49m\u001b[43mstats_cols\u001b[49m\u001b[43m]\u001b[49m.astype(\u001b[38;5;28mfloat\u001b[39m) + \\\n\u001b[32m     26\u001b[39m                  glider_row[stats_cols].astype(\u001b[38;5;28mfloat\u001b[39m)\n\u001b[32m     28\u001b[39m combined_stats[\u001b[33m'\u001b[39m\u001b[33mCombo\u001b[39m\u001b[33m'\u001b[39m] = combo_name\n\u001b[32m     29\u001b[39m combinations.append(combined_stats)\n",
      "\u001b[36mFile \u001b[39m\u001b[32mc:\\Users\\ce200\\Documents\\Topologia de datos\\.venv\\Lib\\site-packages\\pandas\\core\\series.py:1153\u001b[39m, in \u001b[36mSeries.__getitem__\u001b[39m\u001b[34m(self, key)\u001b[39m\n\u001b[32m   1150\u001b[39m     key = np.asarray(key, dtype=\u001b[38;5;28mbool\u001b[39m)\n\u001b[32m   1151\u001b[39m     \u001b[38;5;28;01mreturn\u001b[39;00m \u001b[38;5;28mself\u001b[39m._get_rows_with_mask(key)\n\u001b[32m-> \u001b[39m\u001b[32m1153\u001b[39m \u001b[38;5;28;01mreturn\u001b[39;00m \u001b[38;5;28;43mself\u001b[39;49m\u001b[43m.\u001b[49m\u001b[43m_get_with\u001b[49m\u001b[43m(\u001b[49m\u001b[43mkey\u001b[49m\u001b[43m)\u001b[49m\n",
      "\u001b[36mFile \u001b[39m\u001b[32mc:\\Users\\ce200\\Documents\\Topologia de datos\\.venv\\Lib\\site-packages\\pandas\\core\\series.py:1194\u001b[39m, in \u001b[36mSeries._get_with\u001b[39m\u001b[34m(self, key)\u001b[39m\n\u001b[32m   1191\u001b[39m         \u001b[38;5;28;01mreturn\u001b[39;00m \u001b[38;5;28mself\u001b[39m.iloc[key]\n\u001b[32m   1193\u001b[39m \u001b[38;5;66;03m# handle the dup indexing case GH#4246\u001b[39;00m\n\u001b[32m-> \u001b[39m\u001b[32m1194\u001b[39m \u001b[38;5;28;01mreturn\u001b[39;00m \u001b[38;5;28;43mself\u001b[39;49m\u001b[43m.\u001b[49m\u001b[43mloc\u001b[49m\u001b[43m[\u001b[49m\u001b[43mkey\u001b[49m\u001b[43m]\u001b[49m\n",
      "\u001b[36mFile \u001b[39m\u001b[32mc:\\Users\\ce200\\Documents\\Topologia de datos\\.venv\\Lib\\site-packages\\pandas\\core\\indexing.py:1191\u001b[39m, in \u001b[36m_LocationIndexer.__getitem__\u001b[39m\u001b[34m(self, key)\u001b[39m\n\u001b[32m   1189\u001b[39m maybe_callable = com.apply_if_callable(key, \u001b[38;5;28mself\u001b[39m.obj)\n\u001b[32m   1190\u001b[39m maybe_callable = \u001b[38;5;28mself\u001b[39m._check_deprecated_callable_usage(key, maybe_callable)\n\u001b[32m-> \u001b[39m\u001b[32m1191\u001b[39m \u001b[38;5;28;01mreturn\u001b[39;00m \u001b[38;5;28;43mself\u001b[39;49m\u001b[43m.\u001b[49m\u001b[43m_getitem_axis\u001b[49m\u001b[43m(\u001b[49m\u001b[43mmaybe_callable\u001b[49m\u001b[43m,\u001b[49m\u001b[43m \u001b[49m\u001b[43maxis\u001b[49m\u001b[43m=\u001b[49m\u001b[43maxis\u001b[49m\u001b[43m)\u001b[49m\n",
      "\u001b[36mFile \u001b[39m\u001b[32mc:\\Users\\ce200\\Documents\\Topologia de datos\\.venv\\Lib\\site-packages\\pandas\\core\\indexing.py:1420\u001b[39m, in \u001b[36m_LocIndexer._getitem_axis\u001b[39m\u001b[34m(self, key, axis)\u001b[39m\n\u001b[32m   1417\u001b[39m     \u001b[38;5;28;01mif\u001b[39;00m \u001b[38;5;28mhasattr\u001b[39m(key, \u001b[33m\"\u001b[39m\u001b[33mndim\u001b[39m\u001b[33m\"\u001b[39m) \u001b[38;5;129;01mand\u001b[39;00m key.ndim > \u001b[32m1\u001b[39m:\n\u001b[32m   1418\u001b[39m         \u001b[38;5;28;01mraise\u001b[39;00m \u001b[38;5;167;01mValueError\u001b[39;00m(\u001b[33m\"\u001b[39m\u001b[33mCannot index with multidimensional key\u001b[39m\u001b[33m\"\u001b[39m)\n\u001b[32m-> \u001b[39m\u001b[32m1420\u001b[39m     \u001b[38;5;28;01mreturn\u001b[39;00m \u001b[38;5;28;43mself\u001b[39;49m\u001b[43m.\u001b[49m\u001b[43m_getitem_iterable\u001b[49m\u001b[43m(\u001b[49m\u001b[43mkey\u001b[49m\u001b[43m,\u001b[49m\u001b[43m \u001b[49m\u001b[43maxis\u001b[49m\u001b[43m=\u001b[49m\u001b[43maxis\u001b[49m\u001b[43m)\u001b[49m\n\u001b[32m   1422\u001b[39m \u001b[38;5;66;03m# nested tuple slicing\u001b[39;00m\n\u001b[32m   1423\u001b[39m \u001b[38;5;28;01mif\u001b[39;00m is_nested_tuple(key, labels):\n",
      "\u001b[36mFile \u001b[39m\u001b[32mc:\\Users\\ce200\\Documents\\Topologia de datos\\.venv\\Lib\\site-packages\\pandas\\core\\indexing.py:1360\u001b[39m, in \u001b[36m_LocIndexer._getitem_iterable\u001b[39m\u001b[34m(self, key, axis)\u001b[39m\n\u001b[32m   1357\u001b[39m \u001b[38;5;28mself\u001b[39m._validate_key(key, axis)\n\u001b[32m   1359\u001b[39m \u001b[38;5;66;03m# A collection of keys\u001b[39;00m\n\u001b[32m-> \u001b[39m\u001b[32m1360\u001b[39m keyarr, indexer = \u001b[38;5;28;43mself\u001b[39;49m\u001b[43m.\u001b[49m\u001b[43m_get_listlike_indexer\u001b[49m\u001b[43m(\u001b[49m\u001b[43mkey\u001b[49m\u001b[43m,\u001b[49m\u001b[43m \u001b[49m\u001b[43maxis\u001b[49m\u001b[43m)\u001b[49m\n\u001b[32m   1361\u001b[39m \u001b[38;5;28;01mreturn\u001b[39;00m \u001b[38;5;28mself\u001b[39m.obj._reindex_with_indexers(\n\u001b[32m   1362\u001b[39m     {axis: [keyarr, indexer]}, copy=\u001b[38;5;28;01mTrue\u001b[39;00m, allow_dups=\u001b[38;5;28;01mTrue\u001b[39;00m\n\u001b[32m   1363\u001b[39m )\n",
      "\u001b[36mFile \u001b[39m\u001b[32mc:\\Users\\ce200\\Documents\\Topologia de datos\\.venv\\Lib\\site-packages\\pandas\\core\\indexing.py:1558\u001b[39m, in \u001b[36m_LocIndexer._get_listlike_indexer\u001b[39m\u001b[34m(self, key, axis)\u001b[39m\n\u001b[32m   1555\u001b[39m ax = \u001b[38;5;28mself\u001b[39m.obj._get_axis(axis)\n\u001b[32m   1556\u001b[39m axis_name = \u001b[38;5;28mself\u001b[39m.obj._get_axis_name(axis)\n\u001b[32m-> \u001b[39m\u001b[32m1558\u001b[39m keyarr, indexer = \u001b[43max\u001b[49m\u001b[43m.\u001b[49m\u001b[43m_get_indexer_strict\u001b[49m\u001b[43m(\u001b[49m\u001b[43mkey\u001b[49m\u001b[43m,\u001b[49m\u001b[43m \u001b[49m\u001b[43maxis_name\u001b[49m\u001b[43m)\u001b[49m\n\u001b[32m   1560\u001b[39m \u001b[38;5;28;01mreturn\u001b[39;00m keyarr, indexer\n",
      "\u001b[36mFile \u001b[39m\u001b[32mc:\\Users\\ce200\\Documents\\Topologia de datos\\.venv\\Lib\\site-packages\\pandas\\core\\indexes\\base.py:6192\u001b[39m, in \u001b[36mIndex._get_indexer_strict\u001b[39m\u001b[34m(self, key, axis_name)\u001b[39m\n\u001b[32m   6190\u001b[39m keyarr = key\n\u001b[32m   6191\u001b[39m \u001b[38;5;28;01mif\u001b[39;00m \u001b[38;5;129;01mnot\u001b[39;00m \u001b[38;5;28misinstance\u001b[39m(keyarr, Index):\n\u001b[32m-> \u001b[39m\u001b[32m6192\u001b[39m     keyarr = \u001b[43mcom\u001b[49m\u001b[43m.\u001b[49m\u001b[43masarray_tuplesafe\u001b[49m\u001b[43m(\u001b[49m\u001b[43mkeyarr\u001b[49m\u001b[43m)\u001b[49m\n\u001b[32m   6194\u001b[39m \u001b[38;5;28;01mif\u001b[39;00m \u001b[38;5;28mself\u001b[39m._index_as_unique:\n\u001b[32m   6195\u001b[39m     indexer = \u001b[38;5;28mself\u001b[39m.get_indexer_for(keyarr)\n",
      "\u001b[36mFile \u001b[39m\u001b[32mc:\\Users\\ce200\\Documents\\Topologia de datos\\.venv\\Lib\\site-packages\\pandas\\core\\common.py:247\u001b[39m, in \u001b[36masarray_tuplesafe\u001b[39m\u001b[34m(values, dtype)\u001b[39m\n\u001b[32m    245\u001b[39m         \u001b[38;5;28;01mif\u001b[39;00m \u001b[38;5;129;01mnot\u001b[39;00m np_version_gte1p24:\n\u001b[32m    246\u001b[39m             warnings.simplefilter(\u001b[33m\"\u001b[39m\u001b[33mignore\u001b[39m\u001b[33m\"\u001b[39m, np.VisibleDeprecationWarning)\n\u001b[32m--> \u001b[39m\u001b[32m247\u001b[39m         result = \u001b[43mnp\u001b[49m\u001b[43m.\u001b[49m\u001b[43masarray\u001b[49m\u001b[43m(\u001b[49m\u001b[43mvalues\u001b[49m\u001b[43m,\u001b[49m\u001b[43m \u001b[49m\u001b[43mdtype\u001b[49m\u001b[43m=\u001b[49m\u001b[43mdtype\u001b[49m\u001b[43m)\u001b[49m\n\u001b[32m    248\u001b[39m \u001b[38;5;28;01mexcept\u001b[39;00m \u001b[38;5;167;01mValueError\u001b[39;00m:\n\u001b[32m    249\u001b[39m     \u001b[38;5;66;03m# Using try/except since it's more performant than checking is_list_like\u001b[39;00m\n\u001b[32m    250\u001b[39m     \u001b[38;5;66;03m# over each element\u001b[39;00m\n\u001b[32m    251\u001b[39m     \u001b[38;5;66;03m# error: Argument 1 to \"construct_1d_object_array_from_listlike\"\u001b[39;00m\n\u001b[32m    252\u001b[39m     \u001b[38;5;66;03m# has incompatible type \"Iterable[Any]\"; expected \"Sized\"\u001b[39;00m\n\u001b[32m    253\u001b[39m     \u001b[38;5;28;01mreturn\u001b[39;00m construct_1d_object_array_from_listlike(values)  \u001b[38;5;66;03m# type: ignore[arg-type]\u001b[39;00m\n",
      "\u001b[31mKeyboardInterrupt\u001b[39m: "
     ]
    }
   ],
   "source": [
    "from itertools import product\n",
    "\n",
    "# Agregar identificadores para cada tipo\n",
    "drivers['type'] = 'driver'\n",
    "bodies_karts['type'] = 'body'\n",
    "tires['type'] = 'tire'\n",
    "gliders['type'] = 'glider'\n",
    "\n",
    "# Filtramos las columnas que nos interesan (sin 'type')\n",
    "stats_cols = [col for col in drivers.columns if col not in ['Driver', 'type']]\n",
    "\n",
    "# Creamos las combinaciones\n",
    "combinations = []\n",
    "\n",
    "for d, b, t, g in product(drivers.iterrows(), bodies_karts.iterrows(), tires.iterrows(), gliders.iterrows()):\n",
    "    driver_row = d[1]\n",
    "    body_row = b[1]\n",
    "    tire_row = t[1]\n",
    "    glider_row = g[1]\n",
    "\n",
    "    combo_name = f\"{driver_row['Driver']} + {body_row['Body']} + {tire_row['Tire']} + {glider_row['Glider']}\"\n",
    "    \n",
    "    combined_stats = driver_row[stats_cols].astype(float) + \\\n",
    "                     body_row[stats_cols].astype(float) + \\\n",
    "                     tire_row[stats_cols].astype(float) + \\\n",
    "                     glider_row[stats_cols].astype(float)\n",
    "    \n",
    "    combined_stats['Combo'] = combo_name\n",
    "    combinations.append(combined_stats)\n",
    "\n",
    "# Convertimos a DataFrame final\n",
    "combo_df = pd.DataFrame(combinations)\n"
   ]
  },
  {
   "cell_type": "code",
   "execution_count": 10,
   "id": "ee3fad92",
   "metadata": {},
   "outputs": [
    {
     "ename": "NameError",
     "evalue": "name 'combo_df' is not defined",
     "output_type": "error",
     "traceback": [
      "\u001b[31m---------------------------------------------------------------------------\u001b[39m",
      "\u001b[31mNameError\u001b[39m                                 Traceback (most recent call last)",
      "\u001b[36mCell\u001b[39m\u001b[36m \u001b[39m\u001b[32mIn[10]\u001b[39m\u001b[32m, line 1\u001b[39m\n\u001b[32m----> \u001b[39m\u001b[32m1\u001b[39m \u001b[43mcombo_df\u001b[49m\n",
      "\u001b[31mNameError\u001b[39m: name 'combo_df' is not defined"
     ]
    }
   ],
   "source": [
    "combo_df"
   ]
  },
  {
   "cell_type": "code",
   "execution_count": null,
   "id": "a06d337b",
   "metadata": {},
   "outputs": [],
   "source": []
  }
 ],
 "metadata": {
  "kernelspec": {
   "display_name": ".venv",
   "language": "python",
   "name": "python3"
  },
  "language_info": {
   "codemirror_mode": {
    "name": "ipython",
    "version": 3
   },
   "file_extension": ".py",
   "mimetype": "text/x-python",
   "name": "python",
   "nbconvert_exporter": "python",
   "pygments_lexer": "ipython3",
   "version": "3.12.1"
  }
 },
 "nbformat": 4,
 "nbformat_minor": 5
}
